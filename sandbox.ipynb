{
 "cells": [
  {
   "cell_type": "code",
   "execution_count": 2,
   "metadata": {},
   "outputs": [],
   "source": [
    "import wx"
   ]
  },
  {
   "cell_type": "code",
   "execution_count": 1,
   "metadata": {},
   "outputs": [],
   "source": [
    "# app=wx.App(False)\n",
    "# dc=wx.ScreenDC()\n",
    "\n",
    "# # set line and fill style\n",
    "# dc.SetBrush(wx.TRANSPARENT_BRUSH) \n",
    "# dc.SetPen(wx.Pen((255, 0, 0), width=3, style=wx.PENSTYLE_SOLID))\n",
    "\n",
    "# # draw (x, y, width, height)\n",
    "# dc.DrawRectangle(200, 100, 200, 100)\n",
    "# app.MainLoop()"
   ]
  },
  {
   "cell_type": "code",
   "execution_count": 1,
   "metadata": {},
   "outputs": [],
   "source": [
    "from PIL import Image, ImageGrab\n",
    "import numpy as np, os, time, datetime as dt\n",
    "from datetime import timedelta"
   ]
  },
  {
   "cell_type": "markdown",
   "metadata": {},
   "source": [
    "capture sample photos for labeling"
   ]
  },
  {
   "cell_type": "code",
   "execution_count": 2,
   "metadata": {},
   "outputs": [],
   "source": [
    "time.sleep(5)\n",
    "\n",
    "start_time = dt.datetime.now()\n",
    "\n",
    "b = True\n",
    "while b:\n",
    "\n",
    "    time.sleep(1)\n",
    "\n",
    "    seconds_now = (dt.datetime.now() - start_time).seconds\n",
    "\n",
    "    ImageGrab.grab().save(f'./screenshots/mlb{seconds_now}.jpg', \"JPEG\")\n",
    "\n",
    "    if seconds_now > 400:\n",
    "        b = False"
   ]
  },
  {
   "cell_type": "code",
   "execution_count": null,
   "metadata": {},
   "outputs": [],
   "source": []
  }
 ],
 "metadata": {
  "kernelspec": {
   "display_name": "Python 3.9.7 ('base')",
   "language": "python",
   "name": "python3"
  },
  "language_info": {
   "codemirror_mode": {
    "name": "ipython",
    "version": 3
   },
   "file_extension": ".py",
   "mimetype": "text/x-python",
   "name": "python",
   "nbconvert_exporter": "python",
   "pygments_lexer": "ipython3",
   "version": "3.9.7"
  },
  "orig_nbformat": 4,
  "vscode": {
   "interpreter": {
    "hash": "59844ad6ed4c57ef46fb54ff3321f930b9a07c8af1b92e8239c9f1b7af12d3cc"
   }
  }
 },
 "nbformat": 4,
 "nbformat_minor": 2
}
